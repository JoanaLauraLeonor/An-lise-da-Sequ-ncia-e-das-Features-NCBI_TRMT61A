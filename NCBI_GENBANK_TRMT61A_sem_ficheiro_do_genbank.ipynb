{
 "cells": [
  {
   "cell_type": "markdown",
   "metadata": {},
   "source": [
    "Análise da sequência e das features presentes no NCBI - GENE TRMT61A\n",
    "Nota:Para a realização de todo o código do trabalho teve-se em conta o tutorial do Biopython. \n",
    "Consoante os códigos que estavam disponíveis no tutorial, tentamos adaptá-los aos genes de interesse, neste caso tentamos adaptar ao gene TRMT61A."
   ]
  },
  {
   "cell_type": "markdown",
   "metadata": {},
   "source": [
    "1.O objetivo principal de todo o código que vai ser descrito em baixo é obter o ficheiro em formato GenBank da sequência nucleotídica do gene TRMT61A,mais especificamente o ficheiro em formato GenBank da sequência nucleotídica NC_000014.9.Para tal, numa primeira fase, o código apresentado permite-nos obter uma lista com todos os IDs das sequências nucleotídicas, relacionadas com o gene TRMT61A no organismo Homo Sapiens, curadas e não curadas (onde se encontrará então a sequência nucleotídica que nos interessa obter o seu GenBank, para posteriormente obtermos todas informações que desejamos). Neste código recorreu-se a funções do Bio.Entrez tais como a Entez.esearch (especificamente utilizada para pesquisar o gene TRMT61A no organismo Homo Sapiens) e a Entrez.read. Obteve-se assim 5 IDs diferentes, que se encontram dispostos numa lista à qual denominamos de IdList."
   ]
  },
  {
   "cell_type": "code",
   "execution_count": 1,
   "metadata": {},
   "outputs": [
    {
     "data": {
      "text/plain": [
       "['NC_000014.9', 'NM_152307.3', 'BC016033.2', 'BC010167.2', 'AB590975.1']"
      ]
     },
     "execution_count": 1,
     "metadata": {},
     "output_type": "execute_result"
    }
   ],
   "source": [
    "from Bio import Entrez\n",
    "Entrez.email=\"joanafigueiredo2014@gmail.com\"\n",
    "Entrez.tool='Demoscript'\n",
    "handle=Entrez.esearch(db=\"nucleotide\", term=\"Homo sapiens[Orgn] AND TRMT61A[Gene]\",idtype=\"acc\")\n",
    "record=Entrez.read(handle)\n",
    "record[\"Count\"]\n",
    "record[\"IdList\"] \n"
   ]
  },
  {
   "cell_type": "markdown",
   "metadata": {},
   "source": [
    "2.Posteriormente, a se ter a lista com todos os IDs, detetamos o ID da sequência nucleotídica pretendida: NC_000014.9. Recorreu-se a função Entrez.efetch para se recuperar o registo completo do Entrez, neste caso o resgisto do GenBank. Posteriormente, imprimiu-se então o ficheiro em formato GenBank da sequência nucleotidica do gene TRMT61A no organismo Homo Sapiens,NC_000014.9."
   ]
  },
  {
   "cell_type": "code",
   "execution_count": 2,
   "metadata": {},
   "outputs": [
    {
     "name": "stdout",
     "output_type": "stream",
     "text": [
      "LOCUS       NC_000014          107043718 bp    DNA     linear   CON 09-DEC-2019\n",
      "DEFINITION  Homo sapiens chromosome 14, GRCh38.p13 Primary Assembly.\n",
      "ACCESSION   NC_000014\n",
      "VERSION     NC_000014.9\n",
      "DBLINK      BioProject: PRJNA168\n",
      "            Assembly: GCF_000001405.39\n",
      "KEYWORDS    RefSeq.\n",
      "SOURCE      Homo sapiens (human)\n",
      "  ORGANISM  Homo sapiens\n",
      "            Eukaryota; Metazoa; Chordata; Craniata; Vertebrata; Euteleostomi;\n",
      "            Mammalia; Eutheria; Euarchontoglires; Primates; Haplorrhini;\n",
      "            Catarrhini; Hominidae; Homo.\n",
      "REFERENCE   1  (bases 1 to 107043718)\n",
      "  CONSRTM   International Human Genome Sequencing Consortium\n",
      "  TITLE     Finishing the euchromatic sequence of the human genome\n",
      "  JOURNAL   Nature 431 (7011), 931-945 (2004)\n",
      "   PUBMED   15496913\n",
      "REFERENCE   2  (bases 1 to 107043718)\n",
      "  AUTHORS   Heilig,R., Eckenberg,R., Petit,J.L., Fonknechten,N., Da Silva,C.,\n",
      "            Cattolico,L., Levy,M., Barbe,V., de Berardinis,V., Ureta-Vidal,A.,\n",
      "            Pelletier,E., Vico,V., Anthouard,V., Rowen,L., Madan,A., Qin,S.,\n",
      "            Sun,H., Du,H., Pepin,K., Artiguenave,F., Robert,C., Cruaud,C.,\n",
      "            Bruls,T., Jaillon,O., Friedlander,L., Samson,G., Brottier,P.,\n",
      "            Cure,S., Segurens,B., Aniere,F., Samain,S., Crespeau,H., Abbasi,N.,\n",
      "            Aiach,N., Boscus,D., Dickhoff,R., Dors,M., Dubois,I., Friedman,C.,\n",
      "            Gouyvenoux,M., James,R., Madan,A., Mairey-Estrada,B., Mangenot,S.,\n",
      "            Martins,N., Menard,M., Oztas,S., Ratcliffe,A., Shaffer,T.,\n",
      "            Trask,B., Vacherie,B., Bellemere,C., Belser,C., Besnard-Gonnet,M.,\n",
      "            Bartol-Mavel,D., Boutard,M., Briez-Silla,S., Combette,S.,\n",
      "            Dufosse-Laurent,V., Ferron,C., Lechaplais,C., Louesse,C.,\n",
      "            Muselet,D., Magdelenat,G., Pateau,E., Petit,E.,\n",
      "            Sirvain-Trukniewicz,P., Trybou,A., Vega-Czarny,N., Bataille,E.,\n",
      "            Bluet,E., Bordelais,I., Dubois,M., Dumont,C., Guerin,T.,\n",
      "            Haffray,S., Hammadi,R., Muanga,J., Pellouin,V., Robert,D.,\n",
      "            Wunderle,E., Gauguet,G., Roy,A., Sainte-Marthe,L., Verdier,J.,\n",
      "            Verdier-Discala,C., Hillier,L., Fulton,L., McPherson,J.,\n",
      "            Matsuda,F., Wilson,R., Scarpelli,C., Gyapay,G., Wincker,P.,\n",
      "            Saurin,W., Quetier,F., Waterston,R., Hood,L. and Weissenbach,J.\n",
      "  TITLE     The DNA sequence and analysis of human chromosome 14\n",
      "  JOURNAL   Nature 421 (6923), 601-607 (2003)\n",
      "   PUBMED   12508121\n",
      "REFERENCE   3  (bases 1 to 107043718)\n",
      "  AUTHORS   Lander,E.S., Linton,L.M., Birren,B., Nusbaum,C., Zody,M.C.,\n",
      "            Baldwin,J., Devon,K., Dewar,K., Doyle,M., FitzHugh,W., Funke,R.,\n",
      "            Gage,D., Harris,K., Heaford,A., Howland,J., Kann,L., Lehoczky,J.,\n",
      "            LeVine,R., McEwan,P., McKernan,K., Meldrim,J., Mesirov,J.P.,\n",
      "            Miranda,C., Morris,W., Naylor,J., Raymond,C., Rosetti,M.,\n",
      "            Santos,R., Sheridan,A., Sougnez,C., Stange-Thomann,N.,\n",
      "            Stojanovic,N., Subramanian,A., Wyman,D., Rogers,J., Sulston,J.,\n",
      "            Ainscough,R., Beck,S., Bentley,D., Burton,J., Clee,C., Carter,N.,\n",
      "            Coulson,A., Deadman,R., Deloukas,P., Dunham,A., Dunham,I.,\n",
      "            Durbin,R., French,L., Grafham,D., Gregory,S., Hubbard,T.,\n",
      "            Humphray,S., Hunt,A., Jones,M., Lloyd,C., McMurray,A., Matthews,L.,\n",
      "            Mercer,S., Milne,S., Mullikin,J.C., Mungall,A., Plumb,R., Ross,M.,\n",
      "            Shownkeen,R., Sims,S., Waterston,R.H., Wilson,R.K., Hillier,L.W.,\n",
      "            McPherson,J.D., Marra,M.A., Mardis,E.R., Fulton,L.A.,\n",
      "            Chinwalla,A.T., Pepin,K.H., Gish,W.R., Chissoe,S.L., Wendl,M.C.,\n",
      "            Delehaunty,K.D., Miner,T.L., Delehaunty,A., Kramer,J.B., Cook,L.L.,\n",
      "            Fulton,R.S., Johnson,D.L., Minx,P.J., Clifton,S.W., Hawkins,T.,\n",
      "            Branscomb,E., Predki,P., Richardson,P., Wenning,S., Slezak,T.,\n",
      "            Doggett,N., Cheng,J.F., Olsen,A., Lucas,S., Elkin,C.,\n",
      "            Uberbacher,E., Frazier,M., Gibbs,R.A., Muzny,D.M., Scherer,S.E.,\n",
      "            Bouck,J.B., Sodergren,E.J., Worley,K.C., Rives,C.M., Gorrell,J.H.,\n",
      "            Metzker,M.L., Naylor,S.L., Kucherlapati,R.S., Nelson,D.L.,\n",
      "            Weinstock,G.M., Sakaki,Y., Fujiyama,A., Hattori,M., Yada,T.,\n",
      "            Toyoda,A., Itoh,T., Kawagoe,C., Watanabe,H., Totoki,Y., Taylor,T.,\n",
      "            Weissenbach,J., Heilig,R., Saurin,W., Artiguenave,F., Brottier,P.,\n",
      "            Bruls,T., Pelletier,E., Robert,C., Wincker,P., Smith,D.R.,\n",
      "            Doucette-Stamm,L., Rubenfield,M., Weinstock,K., Lee,H.M.,\n",
      "            Dubois,J., Rosenthal,A., Platzer,M., Nyakatura,G., Taudien,S.,\n",
      "            Rump,A., Yang,H., Yu,J., Wang,J., Huang,G., Gu,J., Hood,L.,\n",
      "            Rowen,L., Madan,A., Qin,S., Davis,R.W., Federspiel,N.A.,\n",
      "            Abola,A.P., Proctor,M.J., Myers,R.M., Schmutz,J., Dickson,M.,\n",
      "            Grimwood,J., Cox,D.R., Olson,M.V., Kaul,R., Raymond,C., Shimizu,N.,\n",
      "            Kawasaki,K., Minoshima,S., Evans,G.A., Athanasiou,M., Schultz,R.,\n",
      "            Roe,B.A., Chen,F., Pan,H., Ramser,J., Lehrach,H., Reinhardt,R.,\n",
      "            McCombie,W.R., de la Bastide,M., Dedhia,N., Blocker,H.,\n",
      "            Hornischer,K., Nordsiek,G., Agarwala,R., Aravind,L., Bailey,J.A.,\n",
      "            Bateman,A., Batzoglou,S., Birney,E., Bork,P., Brown,D.G.,\n",
      "            Burge,C.B., Cerutti,L., Chen,H.C., Church,D., Clamp,M.,\n",
      "            Copley,R.R., Doerks,T., Eddy,S.R., Eichler,E.E., Furey,T.S.,\n",
      "            Galagan,J., Gilbert,J.G., Harmon,C., Hayashizaki,Y., Haussler,D.,\n",
      "            Hermjakob,H., Hokamp,K., Jang,W., Johnson,L.S., Jones,T.A.,\n",
      "            Kasif,S., Kaspryzk,A., Kennedy,S., Kent,W.J., Kitts,P.,\n",
      "            Koonin,E.V., Korf,I., Kulp,D., Lancet,D., Lowe,T.M., McLysaght,A.,\n",
      "            Mikkelsen,T., Moran,J.V., Mulder,N., Pollara,V.J., Ponting,C.P.,\n",
      "            Schuler,G., Schultz,J., Slater,G., Smit,A.F., Stupka,E.,\n",
      "            Szustakowski,J., Thierry-Mieg,D., Thierry-Mieg,J., Wagner,L.,\n",
      "            Wallis,J., Wheeler,R., Williams,A., Wolf,Y.I., Wolfe,K.H.,\n",
      "            Yang,S.P., Yeh,R.F., Collins,F., Guyer,M.S., Peterson,J.,\n",
      "            Felsenfeld,A., Wetterstrand,K.A., Patrinos,A., Morgan,M.J., de\n",
      "            Jong,P., Catanese,J.J., Osoegawa,K., Shizuya,H., Choi,S. and\n",
      "            Chen,Y.J.\n",
      "  CONSRTM   International Human Genome Sequencing Consortium\n",
      "  TITLE     Initial sequencing and analysis of the human genome\n",
      "  JOURNAL   Nature 409 (6822), 860-921 (2001)\n",
      "   PUBMED   11237011\n",
      "  REMARK    Erratum:[Nature 2001 Aug 2;412(6846):565]\n",
      "COMMENT     REFSEQ INFORMATION: The reference sequence is identical to\n",
      "            CM000676.2.\n",
      "            On Feb 3, 2014 this sequence version replaced NC_000014.8.\n",
      "            Assembly Name: GRCh38.p13 Primary Assembly\n",
      "            The DNA sequence is composed of genomic sequence, primarily\n",
      "            finished clones that were sequenced as part of the Human Genome\n",
      "            Project. PCR products and WGS shotgun sequence have been added\n",
      "            where necessary to fill gaps or correct errors. All such additions\n",
      "            are manually curated by GRC staff. For more information see:\n",
      "            https://genomereference.org.\n",
      "            \n",
      "            ##Genome-Annotation-Data-START##\n",
      "            Annotation Provider         :: NCBI\n",
      "            Annotation Status           :: Updated annotation\n",
      "            Annotation Name             :: Homo sapiens Updated Annotation\n",
      "                                           Release 109.20191205\n",
      "            Annotation Version          :: 109.20191205\n",
      "            Annotation Pipeline         :: NCBI eukaryotic genome annotation\n",
      "                                           pipeline\n",
      "            Annotation Software Version :: 8.3\n",
      "            Annotation Method           :: Best-placed RefSeq; propagated\n",
      "                                           RefSeq model\n",
      "            Features Annotated          :: Gene; mRNA; CDS; ncRNA\n",
      "            ##Genome-Annotation-Data-END##\n",
      "FEATURES             Location/Qualifiers\n",
      "     source          1..107043718\n",
      "                     /organism=\"Homo sapiens\"\n",
      "                     /mol_type=\"genomic DNA\"\n",
      "                     /db_xref=\"taxon:9606\"\n",
      "                     /chromosome=\"14\"\n",
      "CONTIG      join(gap(10000),gap(15990000),NT_187240.1:1..22537,gap(100),\n",
      "            NT_187241.1:1..73893,gap(100),NT_187242.1:1..43897,gap(100),\n",
      "            NT_187243.1:1..88022,gap(100),NT_187244.1:1..54133,gap(100),\n",
      "            NT_187245.1:1..63535,gap(100),NT_187246.1:1..20670,gap(100),\n",
      "            NT_187247.1:1..6670,gap(100),NT_187248.1:1..3245,gap(100),\n",
      "            NT_187249.1:1..22561,gap(100),NT_187250.1:1..4185,gap(100),\n",
      "            NT_187251.1:1..1134211,gap(100),NT_187252.1:1..340,gap(100),\n",
      "            NT_187253.1:1..340,gap(100),NT_187254.1:1..1198,gap(100),\n",
      "            NT_187255.1:1..632586,gap(50000),NT_026437.13:1..88660195,\n",
      "            gap(150000),gap(10000))\n",
      "//\n",
      "\n",
      "\n"
     ]
    }
   ],
   "source": [
    "from Bio import Entrez\n",
    "Entrez.email = \"joanafigueiredo2014@gmail.com\"\n",
    "handle = Entrez.efetch(db=\"nucleotide\", id=\"NC_000014.9\", rettype=\"gb\", retmode=\"text\")\n",
    "text = handle.read()\n",
    "print(text)\n",
    "\n",
    "#Temos um problema o ficheiro em formato GenBank não é exatamente igual ao ficheiro do NCBI"
   ]
  },
  {
   "cell_type": "markdown",
   "metadata": {},
   "source": [
    "3.Depois de se ter o ficheiro GenBank é possível obter diferentes dados que nos são fornecidos por ele.\n",
    "Recorreu-se agora não só o módulo Bio.Entrez como também ao módulo Bio.SeqIO. Este último permite não só ler sequências de um arquivo e escrever sequências para um arquivo.\n",
    "O código abaixo, permite-nos, numa primeira fase, obter informações a partir do ficheiro tais como: o ID (record.id), o nome da sequência ( record.name), a sequência nucleotídica e o seu comprimento ( len(record)), a descrição da sequência ( record.description ),as anotações ( record.annotations), o organismo ( record.annotations[\"organism\"] )e a taxonomia (record.annotations[\"taxonomy\"]).\n",
    "Para além disso, sabe-se que as anotações são dadas sobe a forma de um dicionário e, o código abaixo permite também obter as chaves do dicionário e os respetivos valores associados as chaves.\n",
    " "
   ]
  },
  {
   "cell_type": "code",
   "execution_count": 3,
   "metadata": {},
   "outputs": [
    {
     "data": {
      "text/plain": [
       "<function TextIOWrapper.close()>"
      ]
     },
     "execution_count": 3,
     "metadata": {},
     "output_type": "execute_result"
    }
   ],
   "source": [
    "from Bio import SeqIO\n",
    "from Bio import Entrez\n",
    "Entrez.email=\"joanafigueiredo2014@gmail.com\"\n",
    "handle=Entrez.efetch(db=\"nucleotide\", id=\"NC_000014.9\", rettype=\"gb\", retmode=\"text\")\n",
    "record=SeqIO.read(handle,\"genbank\")\n",
    "handle.close"
   ]
  },
  {
   "cell_type": "code",
   "execution_count": 4,
   "metadata": {},
   "outputs": [
    {
     "name": "stdout",
     "output_type": "stream",
     "text": [
      "NC_000014.9\n",
      "NC_000014\n",
      "107043718\n",
      "Homo sapiens chromosome 14, GRCh38.p13 Primary Assembly\n"
     ]
    }
   ],
   "source": [
    "from Bio import SeqIO\n",
    "from Bio import Entrez\n",
    "Entrez.email=\"joanafigueiredo2014@gmail.com\"\n",
    "#identificador da sequencia\n",
    "ID=record.id\n",
    "print(ID)\n",
    "#sequencia\n",
    "nome=record.name\n",
    "print(nome)\n",
    "sequencia=record.seq\n",
    "#print(sequencia)\n",
    "print(len(record.seq))\n",
    "#descriptions\n",
    "description=record.description\n",
    "print(description)"
   ]
  },
  {
   "cell_type": "code",
   "execution_count": 5,
   "metadata": {},
   "outputs": [
    {
     "name": "stdout",
     "output_type": "stream",
     "text": [
      "{'molecule_type': 'DNA', 'topology': 'linear', 'data_file_division': 'CON', 'date': '09-DEC-2019', 'accessions': ['NC_000014'], 'sequence_version': 9, 'keywords': ['RefSeq'], 'source': 'Homo sapiens (human)', 'organism': 'Homo sapiens', 'taxonomy': ['Eukaryota', 'Metazoa', 'Chordata', 'Craniata', 'Vertebrata', 'Euteleostomi', 'Mammalia', 'Eutheria', 'Euarchontoglires', 'Primates', 'Haplorrhini', 'Catarrhini', 'Hominidae', 'Homo'], 'references': [Reference(title='Finishing the euchromatic sequence of the human genome', ...), Reference(title='The DNA sequence and analysis of human chromosome 14', ...), Reference(title='Initial sequencing and analysis of the human genome', ...)], 'comment': 'REFSEQ INFORMATION: The reference sequence is identical to\\nCM000676.2.\\nOn Feb 3, 2014 this sequence version replaced NC_000014.8.\\nAssembly Name: GRCh38.p13 Primary Assembly\\nThe DNA sequence is composed of genomic sequence, primarily\\nfinished clones that were sequenced as part of the Human Genome\\nProject. PCR products and WGS shotgun sequence have been added\\nwhere necessary to fill gaps or correct errors. All such additions\\nare manually curated by GRC staff. For more information see:\\nhttps://genomereference.org.\\n                               Release 109.20191205\\n                               pipeline\\n                               RefSeq model', 'structured_comment': OrderedDict([('Genome-Annotation-Data', OrderedDict([('Annotation Provider', 'NCBI'), ('Annotation Status', 'Updated annotation'), ('Annotation Name', 'Homo sapiens Updated Annotation'), ('Annotation Version', '109.20191205'), ('Annotation Pipeline', 'NCBI eukaryotic genome annotation'), ('Annotation Software Version', '8.3'), ('Annotation Method', 'Best-placed RefSeq; propagated'), ('Features Annotated', 'Gene; mRNA; CDS; ncRNA')]))]), 'contig': 'join(gap(10000),gap(15990000),NT_187240.1:1..22537,gap(100),NT_187241.1:1..73893,gap(100),NT_187242.1:1..43897,gap(100),NT_187243.1:1..88022,gap(100),NT_187244.1:1..54133,gap(100),NT_187245.1:1..63535,gap(100),NT_187246.1:1..20670,gap(100),NT_187247.1:1..6670,gap(100),NT_187248.1:1..3245,gap(100),NT_187249.1:1..22561,gap(100),NT_187250.1:1..4185,gap(100),NT_187251.1:1..1134211,gap(100),NT_187252.1:1..340,gap(100),NT_187253.1:1..340,gap(100),NT_187254.1:1..1198,gap(100),NT_187255.1:1..632586,gap(50000),NT_026437.13:1..88660195,gap(150000),gap(10000))'}\n",
      "Homo sapiens\n",
      "['Eukaryota', 'Metazoa', 'Chordata', 'Craniata', 'Vertebrata', 'Euteleostomi', 'Mammalia', 'Eutheria', 'Euarchontoglires', 'Primates', 'Haplorrhini', 'Catarrhini', 'Hominidae', 'Homo']\n",
      "dict_keys(['molecule_type', 'topology', 'data_file_division', 'date', 'accessions', 'sequence_version', 'keywords', 'source', 'organism', 'taxonomy', 'references', 'comment', 'structured_comment', 'contig'])\n",
      "dict_values(['DNA', 'linear', 'CON', '09-DEC-2019', ['NC_000014'], 9, ['RefSeq'], 'Homo sapiens (human)', 'Homo sapiens', ['Eukaryota', 'Metazoa', 'Chordata', 'Craniata', 'Vertebrata', 'Euteleostomi', 'Mammalia', 'Eutheria', 'Euarchontoglires', 'Primates', 'Haplorrhini', 'Catarrhini', 'Hominidae', 'Homo'], [Reference(title='Finishing the euchromatic sequence of the human genome', ...), Reference(title='The DNA sequence and analysis of human chromosome 14', ...), Reference(title='Initial sequencing and analysis of the human genome', ...)], 'REFSEQ INFORMATION: The reference sequence is identical to\\nCM000676.2.\\nOn Feb 3, 2014 this sequence version replaced NC_000014.8.\\nAssembly Name: GRCh38.p13 Primary Assembly\\nThe DNA sequence is composed of genomic sequence, primarily\\nfinished clones that were sequenced as part of the Human Genome\\nProject. PCR products and WGS shotgun sequence have been added\\nwhere necessary to fill gaps or correct errors. All such additions\\nare manually curated by GRC staff. For more information see:\\nhttps://genomereference.org.\\n                               Release 109.20191205\\n                               pipeline\\n                               RefSeq model', OrderedDict([('Genome-Annotation-Data', OrderedDict([('Annotation Provider', 'NCBI'), ('Annotation Status', 'Updated annotation'), ('Annotation Name', 'Homo sapiens Updated Annotation'), ('Annotation Version', '109.20191205'), ('Annotation Pipeline', 'NCBI eukaryotic genome annotation'), ('Annotation Software Version', '8.3'), ('Annotation Method', 'Best-placed RefSeq; propagated'), ('Features Annotated', 'Gene; mRNA; CDS; ncRNA')]))]), 'join(gap(10000),gap(15990000),NT_187240.1:1..22537,gap(100),NT_187241.1:1..73893,gap(100),NT_187242.1:1..43897,gap(100),NT_187243.1:1..88022,gap(100),NT_187244.1:1..54133,gap(100),NT_187245.1:1..63535,gap(100),NT_187246.1:1..20670,gap(100),NT_187247.1:1..6670,gap(100),NT_187248.1:1..3245,gap(100),NT_187249.1:1..22561,gap(100),NT_187250.1:1..4185,gap(100),NT_187251.1:1..1134211,gap(100),NT_187252.1:1..340,gap(100),NT_187253.1:1..340,gap(100),NT_187254.1:1..1198,gap(100),NT_187255.1:1..632586,gap(50000),NT_026437.13:1..88660195,gap(150000),gap(10000))'])\n"
     ]
    }
   ],
   "source": [
    "#annotations:dicionário que contém informações adicionais sobre a sequência\n",
    "annotations=record.annotations\n",
    "print(annotations)\n",
    "organism=record.annotations[\"organism\"]\n",
    "print(organism)\n",
    "taxonomy=record.annotations[\"taxonomy\"]\n",
    "print(taxonomy)\n",
    "#chaves do dicionário que forma as anotações\n",
    "keys=record.annotations.keys()\n",
    "print(keys)\n",
    "#valores correspondentes as chaves do dicionário\n",
    "values=record.annotations.values()\n",
    "print(values)"
   ]
  },
  {
   "cell_type": "markdown",
   "metadata": {},
   "source": [
    "4.Para além do que foi mencionado em cima, também se pode extrair do ficheiro em formato GenBank: a quantidade de features (len(record.features), a lista de features e ainda, o tipo de features e a localização de cada uma delas.Para tal, recorreu-se ao módulo Bio.SeqFeature, tendo em conta também os dois já mencionados no código em cima. O código para extrair informações sobre as features encontra-se em baixo."
   ]
  },
  {
   "cell_type": "code",
   "execution_count": 6,
   "metadata": {},
   "outputs": [
    {
     "name": "stdout",
     "output_type": "stream",
     "text": [
      "[SeqFeature(FeatureLocation(ExactPosition(0), ExactPosition(107043718), strand=1), type='source')]\n",
      "['source']\n",
      "[FeatureLocation(ExactPosition(0), ExactPosition(107043718), strand=1)]\n",
      "1\n"
     ]
    }
   ],
   "source": [
    "from Bio import SeqIO\n",
    "from Bio import Entrez\n",
    "Entrez.email=\"joanafigueiredo2014@gmail.com\"\n",
    "from Bio import SeqFeature\n",
    "feat=record.features\n",
    "tipos_features=[]\n",
    "posicoes_features=[]\n",
    "for f in feat:\n",
    "    posicoes_features.append(f.location)\n",
    "    if f.type in tipos_features:\n",
    "        f=+1\n",
    "    else:\n",
    "        tipos_features.append(f.type)\n",
    "print(feat)\n",
    "print(tipos_features)\n",
    "print(posicoes_features)\n",
    "\n",
    "\n",
    "#Quantidade de features\n",
    "print(len(feat))"
   ]
  },
  {
   "cell_type": "markdown",
   "metadata": {},
   "source": [
    "5.A partir da lista de features e juntamente com o código descrito abaixo, identificou-se as sequências codificantes associadas a este registo. Através dos “qualifiers” associados, determinou-se ainda qual a proteína codificada e imprimiu-se a sequência da mesma."
   ]
  },
  {
   "cell_type": "markdown",
   "metadata": {},
   "source": [
    "6.Código que indica o número de genes anotados no registo da feature tipo : “gene”."
   ]
  },
  {
   "cell_type": "code",
   "execution_count": null,
   "metadata": {},
   "outputs": [],
   "source": [
    "#não funciona porque o ficheiro GenBank fornecido não contém toda a informação, nem a informação totalmente correta, como por exemplo o tamanho da sequência não está de acordo com o obtido no NCBI\n",
    "from Bio import SeqIO\n",
    "from Bio import Entrez\n",
    "Entrez.email=\"joanafigueiredo2014@gmail.com\"\n",
    "from Bio import SeqFeature\n",
    "featcds=[]\n",
    "for i in range(len(feat)):\n",
    "    if feat[i].type==\"CDS\":\n",
    "        featcds.append(i)\n",
    "    for k in featcds:\n",
    "        product=feat[k].qualifiers[\"product\"] #Da a proteína codificada\n",
    "    for k in featcds:\n",
    "        translation=feat[k].qualifiers[\"translation\"]\n",
    "print(product)\n",
    "print(translation)"
   ]
  },
  {
   "cell_type": "code",
   "execution_count": null,
   "metadata": {},
   "outputs": [],
   "source": [
    "ngenes=0\n",
    "featgene=[]\n",
    "for i in range(len(feat)):\n",
    "    if feat[i].type==\"gene\":\n",
    "        ngenes=+1\n",
    "        featgene.append(i)\n",
    "print(len(featgene))"
   ]
  },
  {
   "cell_type": "code",
   "execution_count": null,
   "metadata": {},
   "outputs": [],
   "source": []
  }
 ],
 "metadata": {
  "kernelspec": {
   "display_name": "Python 3",
   "language": "python",
   "name": "python3"
  },
  "language_info": {
   "codemirror_mode": {
    "name": "ipython",
    "version": 3
   },
   "file_extension": ".py",
   "mimetype": "text/x-python",
   "name": "python",
   "nbconvert_exporter": "python",
   "pygments_lexer": "ipython3",
   "version": "3.7.3"
  }
 },
 "nbformat": 4,
 "nbformat_minor": 2
}
