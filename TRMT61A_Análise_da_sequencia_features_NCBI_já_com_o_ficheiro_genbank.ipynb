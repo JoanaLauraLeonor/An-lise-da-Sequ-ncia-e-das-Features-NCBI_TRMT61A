{
 "cells": [
  {
   "cell_type": "markdown",
   "metadata": {},
   "source": [
    "1.Carregou-se o ficheiro “TRMT61A_GenBank” para análise e, usando o BioPython: verificou-se o ID, o tamanho da respetiva sequência de DNA,o nome do registo e a sua descrição. "
   ]
  },
  {
   "cell_type": "code",
   "execution_count": 1,
   "metadata": {},
   "outputs": [
    {
     "name": "stdout",
     "output_type": "stream",
     "text": [
      "NC_000014.9\n",
      "7878\n",
      "NC_000014\n",
      "Homo sapiens chromosome 14, GRCh38.p13 Primary Assembly\n"
     ]
    }
   ],
   "source": [
    "from Bio import SeqIO\n",
    "leitura=SeqIO.read(\"TRMT61A_GenBank.gb\",\"genbank\")\n",
    "ID=leitura.id\n",
    "print(ID)\n",
    "sequencia=leitura.seq\n",
    "#print(sequencia)\n",
    "tamanho=len(sequencia)\n",
    "print(tamanho)\n",
    "nome_registo=leitura.name\n",
    "print(nome_registo)\n",
    "descricao=leitura.description\n",
    "print(descricao)"
   ]
  },
  {
   "cell_type": "markdown",
   "metadata": {},
   "source": [
    "2.Seguidamente, verifou-se a lista de anotações para este registo, onde se determinou o organismo a que a sequência pertence e a sua classificação taxonómica completa."
   ]
  },
  {
   "cell_type": "code",
   "execution_count": 2,
   "metadata": {},
   "outputs": [
    {
     "name": "stdout",
     "output_type": "stream",
     "text": [
      "Homo sapiens\n",
      "['Eukaryota', 'Metazoa', 'Chordata', 'Craniata', 'Vertebrata', 'Euteleostomi', 'Mammalia', 'Eutheria', 'Euarchontoglires', 'Primates', 'Haplorrhini', 'Catarrhini', 'Hominidae', 'Homo']\n"
     ]
    }
   ],
   "source": [
    "anotacoes=leitura.annotations\n",
    "organismo=leitura.annotations[\"organism\"]\n",
    "print(organismo)\n",
    "taxonomia_completa=leitura.annotations[\"taxonomy\"]\n",
    "print(taxonomia_completa)\n"
   ]
  },
  {
   "cell_type": "markdown",
   "metadata": {},
   "source": [
    "3.Posteriormente, obteve-se a lista de features do registo (feat), o tipo de features ( tipos_features) e as posições/localizações (posicoes_features)"
   ]
  },
  {
   "cell_type": "code",
   "execution_count": 3,
   "metadata": {},
   "outputs": [
    {
     "name": "stdout",
     "output_type": "stream",
     "text": [
      "[SeqFeature(FeatureLocation(ExactPosition(0), ExactPosition(7878), strand=1), type='source'), SeqFeature(FeatureLocation(ExactPosition(0), ExactPosition(7878), strand=1), type='gene'), SeqFeature(CompoundLocation([FeatureLocation(ExactPosition(0), ExactPosition(66), strand=1), FeatureLocation(ExactPosition(754), ExactPosition(1114), strand=1), FeatureLocation(ExactPosition(3386), ExactPosition(3653), strand=1), FeatureLocation(ExactPosition(5354), ExactPosition(7878), strand=1)], 'join'), type='mRNA', location_operator='join'), SeqFeature(CompoundLocation([FeatureLocation(ExactPosition(783), ExactPosition(1114), strand=1), FeatureLocation(ExactPosition(3386), ExactPosition(3653), strand=1), FeatureLocation(ExactPosition(5354), ExactPosition(5626), strand=1)], 'join'), type='CDS', location_operator='join')]\n",
      "['source', 'gene', 'mRNA', 'CDS']\n",
      "[FeatureLocation(ExactPosition(0), ExactPosition(7878), strand=1), FeatureLocation(ExactPosition(0), ExactPosition(7878), strand=1), CompoundLocation([FeatureLocation(ExactPosition(0), ExactPosition(66), strand=1), FeatureLocation(ExactPosition(754), ExactPosition(1114), strand=1), FeatureLocation(ExactPosition(3386), ExactPosition(3653), strand=1), FeatureLocation(ExactPosition(5354), ExactPosition(7878), strand=1)], 'join'), CompoundLocation([FeatureLocation(ExactPosition(783), ExactPosition(1114), strand=1), FeatureLocation(ExactPosition(3386), ExactPosition(3653), strand=1), FeatureLocation(ExactPosition(5354), ExactPosition(5626), strand=1)], 'join')]\n"
     ]
    }
   ],
   "source": [
    "from Bio import SeqFeature\n",
    "feat=leitura.features\n",
    "tipos_features=[]\n",
    "posicoes_features=[]\n",
    "for f in feat:\n",
    "    posicoes_features.append(f.location)\n",
    "    if f.type in tipos_features:\n",
    "        f=+1\n",
    "    else:\n",
    "        tipos_features.append(f.type)\n",
    "print(feat)\n",
    "print(tipos_features)\n",
    "print(posicoes_features)"
   ]
  },
  {
   "cell_type": "markdown",
   "metadata": {},
   "source": [
    "4.A partir da lista de features identificou-se as sequências codificantes associadas a este registo. \n",
    "Através dos “qualifiers” associados, determinou-se qual a proteína codificada e, imprimiu-se a sua sequência."
   ]
  },
  {
   "cell_type": "code",
   "execution_count": 4,
   "metadata": {},
   "outputs": [
    {
     "name": "stdout",
     "output_type": "stream",
     "text": [
      "['tRNA (adenine(58)-N(1))-methyltransferase catalytic subunit TRMT61A']\n",
      "['MSFVAYEELIKEGDTAILSLGHGAMVAVRVQRGAQTQTRHGVLRHSVDLIGRPFGSKVTCGRGGWVYVLHPTPELWTLNLPHRTQILYSTDIALITMMLELRPGSVVCESGTGSGSVSHAIIRTIAPTGHLHTVEFHQQRAEKAREEFQEHRVGRWVTVRTQDVCRSGFGVSHVADAVFLDIPSPWEAVGHAWDALKVEGGRFCSFSPCIEQVQRTCQALAARGFSELSTLEVLPQVYNVRTVSLPPPDLGTGTDGPAGSDTSPFRSGTPMKEAVGHTGYLTFATKTPG']\n"
     ]
    }
   ],
   "source": [
    "featcds=[]\n",
    "for i in range(len(feat)):\n",
    "    if feat[i].type==\"CDS\":\n",
    "        featcds.append(i)\n",
    "    for k in featcds:\n",
    "        p=feat[k].qualifiers[\"product\"]\n",
    "    for k in featcds:\n",
    "        t=feat[k].qualifiers[\"translation\"]\n",
    "print(p)\n",
    "print(t)\n"
   ]
  },
  {
   "cell_type": "markdown",
   "metadata": {},
   "source": [
    "5.Número de genes anotados no registo com feature do tipo : “gene”."
   ]
  },
  {
   "cell_type": "code",
   "execution_count": 5,
   "metadata": {},
   "outputs": [
    {
     "name": "stdout",
     "output_type": "stream",
     "text": [
      "[1]\n"
     ]
    }
   ],
   "source": [
    "ngenes=0\n",
    "featgene=[]\n",
    "for i in range(len(feat)):\n",
    "    if feat[i].type==\"gene\":\n",
    "        ngenes=+1\n",
    "        featgene.append(i)\n",
    "print(featgene)\n"
   ]
  }
 ],
 "metadata": {
  "kernelspec": {
   "display_name": "Python 3",
   "language": "python",
   "name": "python3"
  },
  "language_info": {
   "codemirror_mode": {
    "name": "ipython",
    "version": 3
   },
   "file_extension": ".py",
   "mimetype": "text/x-python",
   "name": "python",
   "nbconvert_exporter": "python",
   "pygments_lexer": "ipython3",
   "version": "3.7.3"
  }
 },
 "nbformat": 4,
 "nbformat_minor": 2
}
